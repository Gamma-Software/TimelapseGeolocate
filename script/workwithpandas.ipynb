{
 "cells": [
  {
   "cell_type": "code",
   "execution_count": 27,
   "metadata": {},
   "outputs": [
    {
     "data": {
      "text/html": [
       "<div>\n",
       "<style scoped>\n",
       "    .dataframe tbody tr th:only-of-type {\n",
       "        vertical-align: middle;\n",
       "    }\n",
       "\n",
       "    .dataframe tbody tr th {\n",
       "        vertical-align: top;\n",
       "    }\n",
       "\n",
       "    .dataframe thead th {\n",
       "        text-align: right;\n",
       "    }\n",
       "</style>\n",
       "<table border=\"1\" class=\"dataframe\">\n",
       "  <thead>\n",
       "    <tr style=\"text-align: right;\">\n",
       "      <th></th>\n",
       "      <th>host</th>\n",
       "      <th>topic</th>\n",
       "      <th>value</th>\n",
       "    </tr>\n",
       "  </thead>\n",
       "  <tbody>\n",
       "    <tr>\n",
       "      <th>2021-07-07 16:00:08.111143+00:00</th>\n",
       "      <td>telegraf</td>\n",
       "      <td>/gps_measure/latitude</td>\n",
       "      <td>49.0449</td>\n",
       "    </tr>\n",
       "    <tr>\n",
       "      <th>2021-07-07 16:00:08.815633+00:00</th>\n",
       "      <td>telegraf</td>\n",
       "      <td>/gps_measure/latitude</td>\n",
       "      <td>49.0449</td>\n",
       "    </tr>\n",
       "    <tr>\n",
       "      <th>2021-07-07 16:00:09.618370+00:00</th>\n",
       "      <td>telegraf</td>\n",
       "      <td>/gps_measure/latitude</td>\n",
       "      <td>49.0449</td>\n",
       "    </tr>\n",
       "  </tbody>\n",
       "</table>\n",
       "</div>"
      ],
      "text/plain": [
       "                                      host                  topic    value\n",
       "2021-07-07 16:00:08.111143+00:00  telegraf  /gps_measure/latitude  49.0449\n",
       "2021-07-07 16:00:08.815633+00:00  telegraf  /gps_measure/latitude  49.0449\n",
       "2021-07-07 16:00:09.618370+00:00  telegraf  /gps_measure/latitude  49.0449"
      ]
     },
     "execution_count": 27,
     "metadata": {},
     "output_type": "execute_result"
    }
   ],
   "source": [
    "from influxdb import InfluxDBClient, DataFrameClient\n",
    "import pandas as pd\n",
    "from datetime import datetime, timezone\n",
    "\n",
    "start = datetime.strptime('2021-07-07_16-00-07', '%Y-%m-%d_%H-%M-%S').isoformat()\n",
    "end = datetime.strptime('2021-07-07_16-00-10', '%Y-%m-%d_%H-%M-%S').isoformat()\n",
    "\n",
    "client = DataFrameClient(\"localhost\", \"8086\", \"rudloff\", \"y4uv3jpc\", \"telegraf\")\n",
    "result = client.query(\"SELECT * FROM \\\"autogen\\\".\\\"mqtt_consumer\\\" WHERE (\\\"topic\\\" = '/gps_measure/latitude') AND time >= '\"+start+\"Z' AND time <= '\"+end+\"Z'\")\n",
    "gps_coords = result[\"mqtt_consumer\"].copy()\n",
    "gps_coords"
   ]
  },
  {
   "cell_type": "code",
   "execution_count": 28,
   "metadata": {},
   "outputs": [
    {
     "data": {
      "text/html": [
       "<div>\n",
       "<style scoped>\n",
       "    .dataframe tbody tr th:only-of-type {\n",
       "        vertical-align: middle;\n",
       "    }\n",
       "\n",
       "    .dataframe tbody tr th {\n",
       "        vertical-align: top;\n",
       "    }\n",
       "\n",
       "    .dataframe thead th {\n",
       "        text-align: right;\n",
       "    }\n",
       "</style>\n",
       "<table border=\"1\" class=\"dataframe\">\n",
       "  <thead>\n",
       "    <tr style=\"text-align: right;\">\n",
       "      <th></th>\n",
       "      <th>value</th>\n",
       "    </tr>\n",
       "  </thead>\n",
       "  <tbody>\n",
       "    <tr>\n",
       "      <th>2021-07-07 16:00:08.111143+00:00</th>\n",
       "      <td>49.0449</td>\n",
       "    </tr>\n",
       "    <tr>\n",
       "      <th>2021-07-07 16:00:08.815633+00:00</th>\n",
       "      <td>49.0449</td>\n",
       "    </tr>\n",
       "    <tr>\n",
       "      <th>2021-07-07 16:00:09.618370+00:00</th>\n",
       "      <td>49.0449</td>\n",
       "    </tr>\n",
       "  </tbody>\n",
       "</table>\n",
       "</div>"
      ],
      "text/plain": [
       "                                    value\n",
       "2021-07-07 16:00:08.111143+00:00  49.0449\n",
       "2021-07-07 16:00:08.815633+00:00  49.0449\n",
       "2021-07-07 16:00:09.618370+00:00  49.0449"
      ]
     },
     "execution_count": 28,
     "metadata": {},
     "output_type": "execute_result"
    }
   ],
   "source": [
    "gps_coords.drop([\"host\", \"topic\"], axis=1, inplace=True)\n",
    "gps_coords"
   ]
  },
  {
   "cell_type": "code",
   "execution_count": 29,
   "metadata": {},
   "outputs": [
    {
     "data": {
      "text/html": [
       "<div>\n",
       "<style scoped>\n",
       "    .dataframe tbody tr th:only-of-type {\n",
       "        vertical-align: middle;\n",
       "    }\n",
       "\n",
       "    .dataframe tbody tr th {\n",
       "        vertical-align: top;\n",
       "    }\n",
       "\n",
       "    .dataframe thead th {\n",
       "        text-align: right;\n",
       "    }\n",
       "</style>\n",
       "<table border=\"1\" class=\"dataframe\">\n",
       "  <thead>\n",
       "    <tr style=\"text-align: right;\">\n",
       "      <th></th>\n",
       "      <th>host</th>\n",
       "      <th>topic</th>\n",
       "      <th>value</th>\n",
       "    </tr>\n",
       "  </thead>\n",
       "  <tbody>\n",
       "    <tr>\n",
       "      <th>2021-07-07 16:00:08.111614+00:00</th>\n",
       "      <td>telegraf</td>\n",
       "      <td>/gps_measure/longitude</td>\n",
       "      <td>2.0127</td>\n",
       "    </tr>\n",
       "    <tr>\n",
       "      <th>2021-07-07 16:00:08.815676+00:00</th>\n",
       "      <td>telegraf</td>\n",
       "      <td>/gps_measure/longitude</td>\n",
       "      <td>2.0127</td>\n",
       "    </tr>\n",
       "    <tr>\n",
       "      <th>2021-07-07 16:00:09.618718+00:00</th>\n",
       "      <td>telegraf</td>\n",
       "      <td>/gps_measure/longitude</td>\n",
       "      <td>2.0127</td>\n",
       "    </tr>\n",
       "  </tbody>\n",
       "</table>\n",
       "</div>"
      ],
      "text/plain": [
       "                                      host                   topic   value\n",
       "2021-07-07 16:00:08.111614+00:00  telegraf  /gps_measure/longitude  2.0127\n",
       "2021-07-07 16:00:08.815676+00:00  telegraf  /gps_measure/longitude  2.0127\n",
       "2021-07-07 16:00:09.618718+00:00  telegraf  /gps_measure/longitude  2.0127"
      ]
     },
     "execution_count": 29,
     "metadata": {},
     "output_type": "execute_result"
    }
   ],
   "source": [
    "result = client.query(\"SELECT * FROM \\\"autogen\\\".\\\"mqtt_consumer\\\" WHERE (\\\"topic\\\" = '/gps_measure/longitude') AND time >= '\"+start+\"Z' AND time <= '\"+end+\"Z'\")\n",
    "result[\"mqtt_consumer\"]"
   ]
  }
 ],
 "metadata": {
  "interpreter": {
   "hash": "ccc7c1c8279436aaeef9dccdd2c6b1bee9122b7fa7bf3dbd78075e62004f9581"
  },
  "kernelspec": {
   "display_name": "Python 3.8.5 64-bit ('.venv': venv)",
   "name": "python3"
  },
  "language_info": {
   "codemirror_mode": {
    "name": "ipython",
    "version": 3
   },
   "file_extension": ".py",
   "mimetype": "text/x-python",
   "name": "python",
   "nbconvert_exporter": "python",
   "pygments_lexer": "ipython3",
   "version": "3.8.5"
  },
  "orig_nbformat": 4
 },
 "nbformat": 4,
 "nbformat_minor": 2
}