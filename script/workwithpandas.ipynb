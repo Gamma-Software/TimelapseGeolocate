{
 "cells": [
  {
   "cell_type": "code",
   "execution_count": 1,
   "metadata": {},
   "outputs": [
    {
     "ename": "ModuleNotFoundError",
     "evalue": "No module named 'influxdb'",
     "output_type": "error",
     "traceback": [
      "\u001b[0;31m---------------------------------------------------------------------------\u001b[0m",
      "\u001b[0;31mModuleNotFoundError\u001b[0m                       Traceback (most recent call last)",
      "\u001b[0;32m/tmp/ipykernel_1063897/1998778108.py\u001b[0m in \u001b[0;36m<module>\u001b[0;34m\u001b[0m\n\u001b[0;32m----> 1\u001b[0;31m \u001b[0;32mfrom\u001b[0m \u001b[0minfluxdb\u001b[0m \u001b[0;32mimport\u001b[0m \u001b[0mInfluxDBClient\u001b[0m\u001b[0;34m,\u001b[0m \u001b[0mDataFrameClient\u001b[0m\u001b[0;34m\u001b[0m\u001b[0;34m\u001b[0m\u001b[0m\n\u001b[0m\u001b[1;32m      2\u001b[0m \u001b[0;32mimport\u001b[0m \u001b[0mpandas\u001b[0m \u001b[0;32mas\u001b[0m \u001b[0mpd\u001b[0m\u001b[0;34m\u001b[0m\u001b[0;34m\u001b[0m\u001b[0m\n\u001b[1;32m      3\u001b[0m \u001b[0;32mfrom\u001b[0m \u001b[0mdatetime\u001b[0m \u001b[0;32mimport\u001b[0m \u001b[0mdatetime\u001b[0m\u001b[0;34m,\u001b[0m \u001b[0mtimezone\u001b[0m\u001b[0;34m\u001b[0m\u001b[0;34m\u001b[0m\u001b[0m\n\u001b[1;32m      4\u001b[0m \u001b[0;34m\u001b[0m\u001b[0m\n\u001b[1;32m      5\u001b[0m \u001b[0mstart\u001b[0m \u001b[0;34m=\u001b[0m \u001b[0mdatetime\u001b[0m\u001b[0;34m.\u001b[0m\u001b[0mstrptime\u001b[0m\u001b[0;34m(\u001b[0m\u001b[0;34m'2021-07-07_16-00-07'\u001b[0m\u001b[0;34m,\u001b[0m \u001b[0;34m'%Y-%m-%d_%H-%M-%S'\u001b[0m\u001b[0;34m)\u001b[0m\u001b[0;34m.\u001b[0m\u001b[0misoformat\u001b[0m\u001b[0;34m(\u001b[0m\u001b[0;34m)\u001b[0m\u001b[0;34m\u001b[0m\u001b[0;34m\u001b[0m\u001b[0m\n",
      "\u001b[0;31mModuleNotFoundError\u001b[0m: No module named 'influxdb'"
     ]
    }
   ],
   "source": [
    "from influxdb import InfluxDBClient, DataFrameClient\n",
    "import pandas as pd\n",
    "from datetime import datetime, timezone\n",
    "\n",
    "start = datetime.strptime('2021-07-07_16-00-07', '%Y-%m-%d_%H-%M-%S').isoformat()\n",
    "end = datetime.strptime('2021-07-07_16-00-10', '%Y-%m-%d_%H-%M-%S').isoformat()\n",
    "\n",
    "client = DataFrameClient(\"localhost\", \"8086\", \"rudloff\", \"y4uv3jpc\", \"telegraf\")\n",
    "result = client.query(\"SELECT * FROM \\\"autogen\\\".\\\"mqtt_consumer\\\" WHERE (\\\"topic\\\" = '/gps_measure/latitude') AND time >= '\"+start+\"Z' AND time <= '\"+end+\"Z'\")"
   ]
  },
  {
   "cell_type": "code",
   "execution_count": null,
   "metadata": {},
   "outputs": [
    {
     "data": {
      "text/html": [
       "<div>\n",
       "<style scoped>\n",
       "    .dataframe tbody tr th:only-of-type {\n",
       "        vertical-align: middle;\n",
       "    }\n",
       "\n",
       "    .dataframe tbody tr th {\n",
       "        vertical-align: top;\n",
       "    }\n",
       "\n",
       "    .dataframe thead th {\n",
       "        text-align: right;\n",
       "    }\n",
       "</style>\n",
       "<table border=\"1\" class=\"dataframe\">\n",
       "  <thead>\n",
       "    <tr style=\"text-align: right;\">\n",
       "      <th></th>\n",
       "      <th>latitude</th>\n",
       "    </tr>\n",
       "  </thead>\n",
       "  <tbody>\n",
       "    <tr>\n",
       "      <th>2021-07-07 16:00:08+00:00</th>\n",
       "      <td>49.0449</td>\n",
       "    </tr>\n",
       "    <tr>\n",
       "      <th>2021-07-07 16:00:09+00:00</th>\n",
       "      <td>49.0449</td>\n",
       "    </tr>\n",
       "  </tbody>\n",
       "</table>\n",
       "</div>"
      ],
      "text/plain": [
       "                           latitude\n",
       "2021-07-07 16:00:08+00:00   49.0449\n",
       "2021-07-07 16:00:09+00:00   49.0449"
      ]
     },
     "execution_count": 49,
     "metadata": {},
     "output_type": "execute_result"
    }
   ],
   "source": [
    "result[\"mqtt_consumer\"].drop([\"host\", \"topic\"], axis=1, inplace=True)\n",
    "result[\"mqtt_consumer\"] = result[\"mqtt_consumer\"].resample('1S').first()\n",
    "gps_coords = result[\"mqtt_consumer\"].copy()\n",
    "gps_coords.columns = [\"latitude\"]\n",
    "gps_coords"
   ]
  },
  {
   "cell_type": "code",
   "execution_count": null,
   "metadata": {},
   "outputs": [
    {
     "data": {
      "text/html": [
       "<div>\n",
       "<style scoped>\n",
       "    .dataframe tbody tr th:only-of-type {\n",
       "        vertical-align: middle;\n",
       "    }\n",
       "\n",
       "    .dataframe tbody tr th {\n",
       "        vertical-align: top;\n",
       "    }\n",
       "\n",
       "    .dataframe thead th {\n",
       "        text-align: right;\n",
       "    }\n",
       "</style>\n",
       "<table border=\"1\" class=\"dataframe\">\n",
       "  <thead>\n",
       "    <tr style=\"text-align: right;\">\n",
       "      <th></th>\n",
       "      <th>latitude</th>\n",
       "      <th>longitude</th>\n",
       "    </tr>\n",
       "  </thead>\n",
       "  <tbody>\n",
       "    <tr>\n",
       "      <th>2021-07-07 16:00:08+00:00</th>\n",
       "      <td>49.0449</td>\n",
       "      <td>2.0127</td>\n",
       "    </tr>\n",
       "    <tr>\n",
       "      <th>2021-07-07 16:00:09+00:00</th>\n",
       "      <td>49.0449</td>\n",
       "      <td>2.0127</td>\n",
       "    </tr>\n",
       "  </tbody>\n",
       "</table>\n",
       "</div>"
      ],
      "text/plain": [
       "                           latitude  longitude\n",
       "2021-07-07 16:00:08+00:00   49.0449     2.0127\n",
       "2021-07-07 16:00:09+00:00   49.0449     2.0127"
      ]
     },
     "execution_count": 50,
     "metadata": {},
     "output_type": "execute_result"
    }
   ],
   "source": [
    "result = client.query(\"SELECT * FROM \\\"autogen\\\".\\\"mqtt_consumer\\\" WHERE (\\\"topic\\\" = '/gps_measure/longitude') AND time >= '\"+start+\"Z' AND time <= '\"+end+\"Z'\")\n",
    "result[\"mqtt_consumer\"].drop([\"host\", \"topic\"], axis=1, inplace=True)\n",
    "result[\"mqtt_consumer\"] = result[\"mqtt_consumer\"].resample('1S').first()\n",
    "gps_coords[\"longitude\"] = result[\"mqtt_consumer\"][\"value\"]\n",
    "gps_coords"
   ]
  },
  {
   "cell_type": "code",
   "execution_count": null,
   "metadata": {},
   "outputs": [
    {
     "name": "stdout",
     "output_type": "stream",
     "text": [
      "20210710_153826\n",
      "['2021-07-10_15-38-28.jpg', '2021-07-10_15-38-29.jpg', '2021-07-10_15-38-30.jpg']\n"
     ]
    }
   ],
   "source": [
    "import os\n",
    "initdir = \"/tmp/timelapse_trip/\"\n",
    "for timelapse_to_process in os.listdir(initdir):\n",
    "    print(timelapse_to_process)\n",
    "    if len(os.listdir(os.path.join(initdir, timelapse_to_process))) == 0:\n",
    "        print(\"remove empty timelapse_trip folder\"+ os.path.join(initdir, timelapse_to_process))\n",
    "        os.rmdir(os.path.join(initdir, timelapse_to_process))\n",
    "    else:\n",
    "        images_sorted = sorted(os.listdir(os.path.join(initdir, timelapse_to_process)))\n",
    "        print(images_sorted)\n",
    "        break\n",
    "        "
   ]
  },
  {
   "cell_type": "code",
   "execution_count": null,
   "metadata": {},
   "outputs": [
    {
     "ename": "NameError",
     "evalue": "name 'datetime' is not defined",
     "output_type": "error",
     "traceback": [
      "\u001b[0;31m---------------------------------------------------------------------------\u001b[0m",
      "\u001b[0;31mNameError\u001b[0m                                 Traceback (most recent call last)",
      "\u001b[0;32m/tmp/ipykernel_1063592/1668301667.py\u001b[0m in \u001b[0;36m<module>\u001b[0;34m\u001b[0m\n\u001b[0;32m----> 1\u001b[0;31m \u001b[0mstart\u001b[0m \u001b[0;34m=\u001b[0m \u001b[0mdatetime\u001b[0m\u001b[0;34m.\u001b[0m\u001b[0mstrptime\u001b[0m\u001b[0;34m(\u001b[0m\u001b[0mimages_sorted\u001b[0m\u001b[0;34m[\u001b[0m\u001b[0;36m0\u001b[0m\u001b[0;34m]\u001b[0m\u001b[0;34m.\u001b[0m\u001b[0mstrip\u001b[0m\u001b[0;34m(\u001b[0m\u001b[0;34m\".jpg\"\u001b[0m\u001b[0;34m)\u001b[0m\u001b[0;34m,\u001b[0m \u001b[0;34m'%Y-%m-%d_%H-%M-%S'\u001b[0m\u001b[0;34m)\u001b[0m\u001b[0;34m.\u001b[0m\u001b[0misoformat\u001b[0m\u001b[0;34m(\u001b[0m\u001b[0;34m)\u001b[0m\u001b[0;34m\u001b[0m\u001b[0;34m\u001b[0m\u001b[0m\n\u001b[0m\u001b[1;32m      2\u001b[0m \u001b[0mend\u001b[0m \u001b[0;34m=\u001b[0m \u001b[0mdatetime\u001b[0m\u001b[0;34m.\u001b[0m\u001b[0mstrptime\u001b[0m\u001b[0;34m(\u001b[0m\u001b[0mimages_sorted\u001b[0m\u001b[0;34m[\u001b[0m\u001b[0;34m-\u001b[0m\u001b[0;36m1\u001b[0m\u001b[0;34m]\u001b[0m\u001b[0;34m.\u001b[0m\u001b[0mstrip\u001b[0m\u001b[0;34m(\u001b[0m\u001b[0;34m\".jpg\"\u001b[0m\u001b[0;34m)\u001b[0m\u001b[0;34m,\u001b[0m \u001b[0;34m'%Y-%m-%d_%H-%M-%S'\u001b[0m\u001b[0;34m)\u001b[0m\u001b[0;34m.\u001b[0m\u001b[0misoformat\u001b[0m\u001b[0;34m(\u001b[0m\u001b[0;34m)\u001b[0m\u001b[0;34m\u001b[0m\u001b[0;34m\u001b[0m\u001b[0m\n\u001b[1;32m      3\u001b[0m \u001b[0mclient\u001b[0m \u001b[0;34m=\u001b[0m \u001b[0mDataFrameClient\u001b[0m\u001b[0;34m(\u001b[0m\u001b[0;34m\"localhost\"\u001b[0m\u001b[0;34m,\u001b[0m \u001b[0;34m\"8086\"\u001b[0m\u001b[0;34m,\u001b[0m \u001b[0;34m\"rudloff\"\u001b[0m\u001b[0;34m,\u001b[0m \u001b[0;34m\"y4uv3jpc\"\u001b[0m\u001b[0;34m,\u001b[0m \u001b[0;34m\"telegraf\"\u001b[0m\u001b[0;34m)\u001b[0m\u001b[0;34m\u001b[0m\u001b[0;34m\u001b[0m\u001b[0m\n\u001b[1;32m      4\u001b[0m \u001b[0mresult\u001b[0m \u001b[0;34m=\u001b[0m \u001b[0mclient\u001b[0m\u001b[0;34m.\u001b[0m\u001b[0mquery\u001b[0m\u001b[0;34m(\u001b[0m\u001b[0;34m\"SELECT * FROM \\\"autogen\\\".\\\"mqtt_consumer\\\" WHERE (\\\"topic\\\" = '/gps_measure/latitude') AND time >= '\"\u001b[0m\u001b[0;34m+\u001b[0m\u001b[0mstart\u001b[0m\u001b[0;34m+\u001b[0m\u001b[0;34m\"Z' AND time <= '\"\u001b[0m\u001b[0;34m+\u001b[0m\u001b[0mend\u001b[0m\u001b[0;34m+\u001b[0m\u001b[0;34m\"Z'\"\u001b[0m\u001b[0;34m)\u001b[0m\u001b[0;34m\u001b[0m\u001b[0;34m\u001b[0m\u001b[0m\n\u001b[1;32m      5\u001b[0m \u001b[0mresult\u001b[0m\u001b[0;34m[\u001b[0m\u001b[0;34m\"mqtt_consumer\"\u001b[0m\u001b[0;34m]\u001b[0m\u001b[0;34m\u001b[0m\u001b[0;34m\u001b[0m\u001b[0m\n",
      "\u001b[0;31mNameError\u001b[0m: name 'datetime' is not defined"
     ]
    }
   ],
   "source": [
    "start = datetime.strptime(images_sorted[0].strip(\".jpg\"), '%Y-%m-%d_%H-%M-%S').isoformat()\n",
    "end = datetime.strptime(images_sorted[-1].strip(\".jpg\"), '%Y-%m-%d_%H-%M-%S').isoformat()\n",
    "client = DataFrameClient(\"localhost\", \"8086\", \"rudloff\", \"y4uv3jpc\", \"telegraf\")\n",
    "result = client.query(\"SELECT * FROM \\\"autogen\\\".\\\"mqtt_consumer\\\" WHERE (\\\"topic\\\" = '/gps_measure/latitude') AND time >= '\"+start+\"Z' AND time <= '\"+end+\"Z'\")\n",
    "result[\"mqtt_consumer\"]"
   ]
  }
 ],
 "metadata": {
  "interpreter": {
   "hash": "31f2aee4e71d21fbe5cf8b01ff0e069b9275f58929596ceb00d14d90e3e16cd6"
  },
  "kernelspec": {
   "display_name": "Python 3.8.5 64-bit",
   "name": "python3"
  },
  "language_info": {
   "name": "python",
   "version": ""
  },
  "orig_nbformat": 4
 },
 "nbformat": 4,
 "nbformat_minor": 2
}